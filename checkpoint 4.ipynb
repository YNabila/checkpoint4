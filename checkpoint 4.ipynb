{
 "cells": [
  {
   "cell_type": "code",
   "execution_count": 1,
   "id": "4d14c1d4",
   "metadata": {},
   "outputs": [],
   "source": [
    "def moyenne(a,b,c):\n",
    "    moy=((a*2)+(b*3)+c)/6\n",
    "    return moy"
   ]
  },
  {
   "cell_type": "code",
   "execution_count": 4,
   "id": "c83936aa",
   "metadata": {},
   "outputs": [
    {
     "data": {
      "text/plain": [
       "6.83"
      ]
     },
     "execution_count": 4,
     "metadata": {},
     "output_type": "execute_result"
    }
   ],
   "source": [
    "round(moyenne(9,6,5),2)"
   ]
  },
  {
   "cell_type": "code",
   "execution_count": 5,
   "id": "3072648f",
   "metadata": {},
   "outputs": [],
   "source": [
    "def my_function(country=\"Tunisia\"):\n",
    "    print(\"I am from \"+country)"
   ]
  },
  {
   "cell_type": "code",
   "execution_count": 7,
   "id": "a83409da",
   "metadata": {},
   "outputs": [
    {
     "name": "stdout",
     "output_type": "stream",
     "text": [
      "I am from algeria\n"
     ]
    }
   ],
   "source": [
    "my_function(\"algeria\")"
   ]
  },
  {
   "cell_type": "code",
   "execution_count": 8,
   "id": "a1b004c2",
   "metadata": {},
   "outputs": [
    {
     "name": "stdout",
     "output_type": "stream",
     "text": [
      "I am from Tunisia\n"
     ]
    }
   ],
   "source": [
    "my_function()"
   ]
  },
  {
   "cell_type": "code",
   "execution_count": 11,
   "id": "5c831baa",
   "metadata": {},
   "outputs": [],
   "source": [
    "def maximum(L):\n",
    "    maxl=L[0]\n",
    "    for i in L:\n",
    "        if maxl<i:\n",
    "            maxl=i\n",
    "    return maxl"
   ]
  },
  {
   "cell_type": "code",
   "execution_count": 12,
   "id": "148e712b",
   "metadata": {},
   "outputs": [
    {
     "data": {
      "text/plain": [
       "8"
      ]
     },
     "execution_count": 12,
     "metadata": {},
     "output_type": "execute_result"
    }
   ],
   "source": [
    "maximum([1,4,8,5])"
   ]
  },
  {
   "cell_type": "code",
   "execution_count": 13,
   "id": "8668220a",
   "metadata": {},
   "outputs": [],
   "source": [
    "sum = lambda a,b,c : a+b+c"
   ]
  },
  {
   "cell_type": "code",
   "execution_count": 14,
   "id": "0658b1c9",
   "metadata": {},
   "outputs": [
    {
     "name": "stdout",
     "output_type": "stream",
     "text": [
      "16\n"
     ]
    }
   ],
   "source": [
    "print(sum(5,4,7))"
   ]
  },
  {
   "cell_type": "code",
   "execution_count": 15,
   "id": "fc45779c",
   "metadata": {},
   "outputs": [
    {
     "data": {
      "text/plain": [
       "4"
      ]
     },
     "execution_count": 15,
     "metadata": {},
     "output_type": "execute_result"
    }
   ],
   "source": [
    "sum(2,1,1)"
   ]
  },
  {
   "cell_type": "code",
   "execution_count": 18,
   "id": "9cc25e20",
   "metadata": {},
   "outputs": [],
   "source": [
    "year = lambda ch : ch[:4]\n",
    "h = \"20200310\""
   ]
  },
  {
   "cell_type": "code",
   "execution_count": 19,
   "id": "80f7b130",
   "metadata": {},
   "outputs": [
    {
     "data": {
      "text/plain": [
       "'2020'"
      ]
     },
     "execution_count": 19,
     "metadata": {},
     "output_type": "execute_result"
    }
   ],
   "source": [
    "year(h)"
   ]
  },
  {
   "cell_type": "code",
   "execution_count": 21,
   "id": "0a8d3cbd",
   "metadata": {},
   "outputs": [
    {
     "data": {
      "text/plain": [
       "[4, 4, 4]"
      ]
     },
     "execution_count": 21,
     "metadata": {},
     "output_type": "execute_result"
    }
   ],
   "source": [
    "tuple1=(1,2,3)\n",
    "tuple2=(3,2,1)\n",
    "result= list(map(lambda x,y : x+y,tuple1,tuple2))\n",
    "result"
   ]
  },
  {
   "cell_type": "code",
   "execution_count": 23,
   "id": "0988a26a",
   "metadata": {},
   "outputs": [],
   "source": [
    "def myfunc(a,b,c):\n",
    "    return a+b-c"
   ]
  },
  {
   "cell_type": "code",
   "execution_count": 25,
   "id": "072d0a4f",
   "metadata": {},
   "outputs": [
    {
     "data": {
      "text/plain": [
       "[9, 10]"
      ]
     },
     "execution_count": 25,
     "metadata": {},
     "output_type": "execute_result"
    }
   ],
   "source": [
    "resultat=list(map(myfunc,(1,4),(9,8),(1,2)))\n",
    "resultat"
   ]
  },
  {
   "cell_type": "code",
   "execution_count": 26,
   "id": "8d2c7544",
   "metadata": {},
   "outputs": [],
   "source": [
    "def maximum(L):\n",
    "    maxl=L[0]\n",
    "    for i in L:\n",
    "        if maxl<i:\n",
    "            maxl=i\n",
    "    return maxl"
   ]
  },
  {
   "cell_type": "code",
   "execution_count": 27,
   "id": "a6ce8e38",
   "metadata": {},
   "outputs": [
    {
     "data": {
      "text/plain": [
       "26"
      ]
     },
     "execution_count": 27,
     "metadata": {},
     "output_type": "execute_result"
    }
   ],
   "source": [
    "maximum([3,26,1])"
   ]
  },
  {
   "cell_type": "code",
   "execution_count": 28,
   "id": "9de99c3c",
   "metadata": {},
   "outputs": [],
   "source": [
    "def calculation(a,b):\n",
    "    sumc=a+b\n",
    "    subc=a-b\n",
    "    return sumc,subc"
   ]
  },
  {
   "cell_type": "code",
   "execution_count": 29,
   "id": "29bc81eb",
   "metadata": {},
   "outputs": [
    {
     "data": {
      "text/plain": [
       "(11, 7)"
      ]
     },
     "execution_count": 29,
     "metadata": {},
     "output_type": "execute_result"
    }
   ],
   "source": [
    "calculation(9,2)"
   ]
  },
  {
   "cell_type": "code",
   "execution_count": 30,
   "id": "4d2dc17e",
   "metadata": {},
   "outputs": [],
   "source": [
    "def sumlist(L):\n",
    "    s=0\n",
    "    for i in L:\n",
    "        s+=i\n",
    "    return s"
   ]
  },
  {
   "cell_type": "code",
   "execution_count": 31,
   "id": "c1bdb6d5",
   "metadata": {},
   "outputs": [
    {
     "data": {
      "text/plain": [
       "6"
      ]
     },
     "execution_count": 31,
     "metadata": {},
     "output_type": "execute_result"
    }
   ],
   "source": [
    "sumlist([1,2,3])"
   ]
  },
  {
   "cell_type": "code",
   "execution_count": 34,
   "id": "249179fe",
   "metadata": {},
   "outputs": [],
   "source": [
    "def multlist(L):\n",
    "    m=1\n",
    "    for i in L:\n",
    "        m=m*i\n",
    "    return m"
   ]
  },
  {
   "cell_type": "code",
   "execution_count": 36,
   "id": "8f6e3acc",
   "metadata": {},
   "outputs": [
    {
     "data": {
      "text/plain": [
       "12"
      ]
     },
     "execution_count": 36,
     "metadata": {},
     "output_type": "execute_result"
    }
   ],
   "source": [
    "multlist([2,2,3])"
   ]
  },
  {
   "cell_type": "code",
   "execution_count": 52,
   "id": "eb37a2dd",
   "metadata": {},
   "outputs": [],
   "source": [
    "M=[1,4,9,3,4]\n",
    "Mven=[]\n",
    "Modd=[]"
   ]
  },
  {
   "cell_type": "code",
   "execution_count": 54,
   "id": "32fcfd2a",
   "metadata": {},
   "outputs": [],
   "source": [
    "for i in range(len(M)):\n",
    "    if i % 2 ==0:\n",
    "        Mven.append(M[i])\n",
    "    else:\n",
    "        Modd.append(M[i])"
   ]
  },
  {
   "cell_type": "markdown",
   "id": "7846162c",
   "metadata": {},
   "source": [
    "Meven"
   ]
  },
  {
   "cell_type": "code",
   "execution_count": 55,
   "id": "264cc4b5",
   "metadata": {},
   "outputs": [
    {
     "data": {
      "text/plain": [
       "[1, 9, 4]"
      ]
     },
     "execution_count": 55,
     "metadata": {},
     "output_type": "execute_result"
    }
   ],
   "source": [
    "Mven"
   ]
  },
  {
   "cell_type": "code",
   "execution_count": 47,
   "id": "3fbe133f",
   "metadata": {},
   "outputs": [
    {
     "data": {
      "text/plain": [
       "[4, 3]"
      ]
     },
     "execution_count": 47,
     "metadata": {},
     "output_type": "execute_result"
    }
   ],
   "source": [
    "Modd"
   ]
  },
  {
   "cell_type": "code",
   "execution_count": 56,
   "id": "d7df34b0",
   "metadata": {},
   "outputs": [
    {
     "data": {
      "text/plain": [
       "14"
      ]
     },
     "execution_count": 56,
     "metadata": {},
     "output_type": "execute_result"
    }
   ],
   "source": [
    "sumlist(Mven)"
   ]
  },
  {
   "cell_type": "code",
   "execution_count": 57,
   "id": "0bcffb18",
   "metadata": {},
   "outputs": [
    {
     "data": {
      "text/plain": [
       "12"
      ]
     },
     "execution_count": 57,
     "metadata": {},
     "output_type": "execute_result"
    }
   ],
   "source": [
    "multlist(Modd)"
   ]
  },
  {
   "cell_type": "code",
   "execution_count": 69,
   "id": "8d8ef4a0",
   "metadata": {},
   "outputs": [],
   "source": [
    "def resultat(M):\n",
    "    Mven=[]\n",
    "    Modd=[]\n",
    "    for i in range(len(M)):\n",
    "        if i % 2 ==0:\n",
    "            Mven.append(M[i])\n",
    "        else:\n",
    "            Modd.append(M[i])\n",
    "    return  sumlist(Mven),multlist(Modd)"
   ]
  },
  {
   "cell_type": "code",
   "execution_count": 70,
   "id": "0a396c89",
   "metadata": {},
   "outputs": [
    {
     "data": {
      "text/plain": [
       "(10, 80)"
      ]
     },
     "execution_count": 70,
     "metadata": {},
     "output_type": "execute_result"
    }
   ],
   "source": [
    "resultat([1,2,3,8,6,5])"
   ]
  },
  {
   "cell_type": "code",
   "execution_count": 71,
   "id": "302538ea",
   "metadata": {},
   "outputs": [
    {
     "name": "stdout",
     "output_type": "stream",
     "text": [
      "black-white-red-green\n"
     ]
    }
   ],
   "source": [
    "sequence=input()"
   ]
  },
  {
   "cell_type": "code",
   "execution_count": 72,
   "id": "539b0d81",
   "metadata": {},
   "outputs": [],
   "source": [
    "seq=sequence.split(\"-\")"
   ]
  },
  {
   "cell_type": "code",
   "execution_count": 73,
   "id": "c8ec3f80",
   "metadata": {},
   "outputs": [
    {
     "name": "stdout",
     "output_type": "stream",
     "text": [
      "['black', 'white', 'red', 'green']\n"
     ]
    }
   ],
   "source": [
    "print(seq)"
   ]
  },
  {
   "cell_type": "code",
   "execution_count": 81,
   "id": "68fa2abf",
   "metadata": {},
   "outputs": [
    {
     "data": {
      "text/plain": [
       "['black', 'green', 'red', 'white']"
      ]
     },
     "execution_count": 81,
     "metadata": {},
     "output_type": "execute_result"
    }
   ],
   "source": [
    "sorted(seq, key=lambda elt: elt[0])"
   ]
  },
  {
   "cell_type": "code",
   "execution_count": 95,
   "id": "abc82f78",
   "metadata": {},
   "outputs": [],
   "source": [
    "def question4():\n",
    "    sequence=input()\n",
    "    seq=sequence.split(\"-\")\n",
    "    sorted(seq, key=lambda elt: elt[0])\n",
    "    return \"-\".join(seq)"
   ]
  },
  {
   "cell_type": "code",
   "execution_count": 96,
   "id": "b8b5c3ac",
   "metadata": {
    "scrolled": true
   },
   "outputs": [
    {
     "name": "stdout",
     "output_type": "stream",
     "text": [
      "black-white-red-green\n"
     ]
    },
    {
     "data": {
      "text/plain": [
       "'black-white-red-green'"
      ]
     },
     "execution_count": 96,
     "metadata": {},
     "output_type": "execute_result"
    }
   ],
   "source": [
    "question4()"
   ]
  },
  {
   "cell_type": "code",
   "execution_count": 129,
   "id": "63290cee",
   "metadata": {},
   "outputs": [],
   "source": [
    "import math\n",
    "def question5(c=50,h=30):\n",
    "    d=input()\n",
    "    d=d.split(\",\")\n",
    "    qnew=[]\n",
    "    for i in range(len(d)):\n",
    "        q=round(math.sqrt((2*c*int(d[i])/h)))\n",
    "        qnew.append(q)\n",
    "    return qnew"
   ]
  },
  {
   "cell_type": "code",
   "execution_count": 130,
   "id": "b1a057e0",
   "metadata": {},
   "outputs": [
    {
     "name": "stdout",
     "output_type": "stream",
     "text": [
      "100,150,180\n"
     ]
    },
    {
     "data": {
      "text/plain": [
       "[18, 22, 24]"
      ]
     },
     "execution_count": 130,
     "metadata": {},
     "output_type": "execute_result"
    }
   ],
   "source": [
    "question5()"
   ]
  },
  {
   "cell_type": "code",
   "execution_count": null,
   "id": "fe229296",
   "metadata": {},
   "outputs": [],
   "source": [
    " "
   ]
  },
  {
   "cell_type": "code",
   "execution_count": null,
   "id": "9f63aa79",
   "metadata": {},
   "outputs": [],
   "source": []
  }
 ],
 "metadata": {
  "kernelspec": {
   "display_name": "Python 3 (ipykernel)",
   "language": "python",
   "name": "python3"
  },
  "language_info": {
   "codemirror_mode": {
    "name": "ipython",
    "version": 3
   },
   "file_extension": ".py",
   "mimetype": "text/x-python",
   "name": "python",
   "nbconvert_exporter": "python",
   "pygments_lexer": "ipython3",
   "version": "3.9.12"
  }
 },
 "nbformat": 4,
 "nbformat_minor": 5
}
